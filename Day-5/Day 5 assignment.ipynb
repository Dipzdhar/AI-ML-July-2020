{
 "cells": [
  {
   "cell_type": "markdown",
   "metadata": {},
   "source": [
    "# Question 1 :\n",
    "Write a Python program to find the first 20 non-even prime natural numbers."
   ]
  },
  {
   "cell_type": "code",
   "execution_count": 12,
   "metadata": {},
   "outputs": [
    {
     "name": "stdout",
     "output_type": "stream",
     "text": [
      " 2   3   4   5   7   11   13   17   19  "
     ]
    }
   ],
   "source": [
    "for Number in range (1, 20):\n",
    "    count = 0\n",
    "    for i in range(3, (Number//2 + 1)):\n",
    "        if(Number % i == 0):\n",
    "            count = count + 1\n",
    "            break\n",
    "\n",
    "    if (count == 0 and Number != 1):\n",
    "        print(\" %d\" %Number, end = '  ')"
   ]
  },
  {
   "cell_type": "markdown",
   "metadata": {},
   "source": [
    "# Question 2 :\n",
    "Write a Python program to implement 15 functions of string."
   ]
  },
  {
   "cell_type": "code",
   "execution_count": 48,
   "metadata": {},
   "outputs": [
    {
     "name": "stdout",
     "output_type": "stream",
     "text": [
      "PythonString\n",
      "PythonPython\n",
      "h\n",
      "tho\n",
      "True\n",
      "True\n",
      "Python\n",
      "\n",
      "\\n\n",
      "\\n\n",
      "Python\n",
      "python\n",
      "PYTHON\n",
      "1\n"
     ]
    }
   ],
   "source": [
    "#String Concatintion\n",
    "\n",
    "var1 = 'Python'\n",
    "var2 = 'String'\n",
    "print (var1+var2)\n",
    "\n",
    "#Repetation\n",
    "print(var1*2)\n",
    "\n",
    "#Slicing [ ]\n",
    "print (var1[3])\n",
    "\n",
    "#Range Slicing [x:y]\n",
    "print (var1[2:5])\n",
    "\n",
    "#Membership (in)\n",
    "print ('n' in var1)\n",
    "\n",
    "#Membership (not in)\n",
    "print ('N' not in var1)\n",
    "\n",
    "#Iterating (for)\n",
    "for var in var1: print (var, end =\"\")\n",
    "print('\\n')\n",
    "    \n",
    "#Raw String (r/R)\n",
    "print (r'\\n')\n",
    "print (R'\\n')\n",
    "\n",
    "#capitalize()\n",
    "var = 'PYTHON'\n",
    "print(var.capitalize())\n",
    "\n",
    "#lower()\n",
    "print (var.lower())\n",
    "\n",
    "#upper()\n",
    "print (var.upper())\n",
    "\n",
    "#count string\n",
    "var4='python'\n",
    "str='h'\n",
    "print (var4.count(str))\n",
    "\n"
   ]
  },
  {
   "cell_type": "markdown",
   "metadata": {},
   "source": [
    "# Question 3:\n",
    "Write a Python program to check if the given string is a Palindrome or Anagram or None of them.\n",
    "Display the message accordingly to the user."
   ]
  },
  {
   "cell_type": "code",
   "execution_count": 56,
   "metadata": {},
   "outputs": [
    {
     "name": "stdout",
     "output_type": "stream",
     "text": [
      "Enter a String : dj\n",
      "Enter a another String :jd\n",
      "String is palindrome\n"
     ]
    }
   ],
   "source": [
    "str1=input(\"Enter a String : \")\n",
    "str2= input(\"Enter a another String :\")\n",
    "if(str2[::-1]==str1):\n",
    "    print(\"String is palindrome\")\n",
    "elif(sorted(str2)==sorted(str1)):\n",
    "    print(\"String is an Anagrame\")\n",
    "else:\n",
    "    print(\"String is not palindrome not Anagrame\")"
   ]
  },
  {
   "cell_type": "markdown",
   "metadata": {},
   "source": [
    "# Question 4:\n",
    "\n",
    "Write a Python's user defined function that removes all the additional characters from the string\n",
    "and converts it finally to lower case using built-in lower(). eg: If the string is \"Dr. Darshan Ingle\n",
    "@AI-ML Trainer\", then the output be \"drdarshaningleaimltrainer\"."
   ]
  },
  {
   "cell_type": "code",
   "execution_count": 17,
   "metadata": {},
   "outputs": [
    {
     "name": "stdout",
     "output_type": "stream",
     "text": [
      "String is :  Dr Darshan Ingle @AI-ML Trainer\n",
      "After Removing all spaceial caracters from string \n",
      "Resultent String is: drdarshaningleaimltrainer\n"
     ]
    }
   ],
   "source": [
    "def replace_char(y):\n",
    "    invalid_list=['!','@','#','$','%','^','&','*','(',')','-','+','_',':',\" \"]\n",
    "    for i in invalid_list:\n",
    "        y=y.replace(i,'')\n",
    "        y=y.lower()\n",
    "    print(\"After Removing all spaceial caracters from string \")\n",
    "    print(\"Resultent String is:\",y)\n",
    "        \n",
    "string_1='Dr Darshan Ingle @AI-ML Trainer'\n",
    "print(\"String is : \", string_1)\n",
    "replace_char(string_1)"
   ]
  },
  {
   "cell_type": "code",
   "execution_count": null,
   "metadata": {},
   "outputs": [],
   "source": []
  }
 ],
 "metadata": {
  "kernelspec": {
   "display_name": "Python 3",
   "language": "python",
   "name": "python3"
  },
  "language_info": {
   "codemirror_mode": {
    "name": "ipython",
    "version": 3
   },
   "file_extension": ".py",
   "mimetype": "text/x-python",
   "name": "python",
   "nbconvert_exporter": "python",
   "pygments_lexer": "ipython3",
   "version": "3.7.6"
  }
 },
 "nbformat": 4,
 "nbformat_minor": 4
}
