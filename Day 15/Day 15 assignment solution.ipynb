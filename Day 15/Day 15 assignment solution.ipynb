{
 "cells": [
  {
   "cell_type": "markdown",
   "metadata": {},
   "source": [
    "# 1.  Create a 3x3x3 array with random values"
   ]
  },
  {
   "cell_type": "code",
   "execution_count": 1,
   "metadata": {},
   "outputs": [
    {
     "name": "stdout",
     "output_type": "stream",
     "text": [
      "[[[0.28343255 0.95478738 0.45331963]\n",
      "  [0.19933026 0.47557024 0.35291996]\n",
      "  [0.26106077 0.4306878  0.08955569]]\n",
      "\n",
      " [[0.95522157 0.99329947 0.43274418]\n",
      "  [0.79467109 0.30629569 0.35202613]\n",
      "  [0.34737615 0.01081223 0.26481725]]\n",
      "\n",
      " [[0.12968644 0.05198089 0.8812119 ]\n",
      "  [0.41830903 0.65905498 0.72284803]\n",
      "  [0.87149775 0.35335736 0.4568632 ]]]\n"
     ]
    }
   ],
   "source": [
    "import numpy as np\n",
    "a = np.random.random((3,3,3))\n",
    "print(a)"
   ]
  },
  {
   "cell_type": "markdown",
   "metadata": {},
   "source": [
    "# 2.Create a 5x5 matrix with values 1,2,3,4 just below the diagonal"
   ]
  },
  {
   "cell_type": "code",
   "execution_count": 4,
   "metadata": {},
   "outputs": [
    {
     "name": "stdout",
     "output_type": "stream",
     "text": [
      "[[1 0 0 0 0]\n",
      " [0 2 0 0 0]\n",
      " [0 0 3 0 0]\n",
      " [0 0 0 4 0]\n",
      " [0 0 0 0 5]]\n"
     ]
    }
   ],
   "source": [
    "b=np.diag([1,2,3,4,5])\n",
    "print(b)"
   ]
  },
  {
   "cell_type": "markdown",
   "metadata": {},
   "source": [
    "# 3.Create a 8x8 matrix and fill it with a checkerboard pattern"
   ]
  },
  {
   "cell_type": "code",
   "execution_count": 8,
   "metadata": {},
   "outputs": [
    {
     "name": "stdout",
     "output_type": "stream",
     "text": [
      "[[0. 1. 0. 1. 0. 1. 0. 1.]\n",
      " [1. 0. 1. 0. 1. 0. 1. 0.]\n",
      " [0. 1. 0. 1. 0. 1. 0. 1.]\n",
      " [1. 0. 1. 0. 1. 0. 1. 0.]\n",
      " [0. 1. 0. 1. 0. 1. 0. 1.]\n",
      " [1. 0. 1. 0. 1. 0. 1. 0.]\n",
      " [0. 1. 0. 1. 0. 1. 0. 1.]\n",
      " [1. 0. 1. 0. 1. 0. 1. 0.]]\n"
     ]
    }
   ],
   "source": [
    "c = np.ones((3,3))\n",
    "c = np.zeros((8,8))\n",
    "c[1::2,::2] = 1\n",
    "c[::2,1::2] = 1\n",
    "print(c)"
   ]
  },
  {
   "cell_type": "markdown",
   "metadata": {},
   "source": [
    "# 4. Normalize a 5x5 random matrix"
   ]
  },
  {
   "cell_type": "code",
   "execution_count": 23,
   "metadata": {},
   "outputs": [
    {
     "name": "stdout",
     "output_type": "stream",
     "text": [
      "Raw Arry is :\n",
      "  [[0.18774325 0.60884705 0.369165   0.05588605 0.11027054]\n",
      " [0.12208696 0.79715809 0.07936319 0.98838168 0.07455915]\n",
      " [0.47837024 0.86484313 0.20815617 0.76985852 0.12246008]\n",
      " [0.61174445 0.84018542 0.49064496 0.71214213 0.19623375]\n",
      " [0.03298237 0.30723094 0.09936013 0.6407995  0.40273339]]\n",
      "\n",
      "\n",
      " After normalization:\n",
      " [[0.16198555 0.60274765 0.35187657 0.02397289 0.08089619]\n",
      " [0.09326424 0.79984956 0.04854601 1.         0.0435177 ]\n",
      " [0.46617981 0.87069433 0.1833514  0.77127557 0.09365478]\n",
      " [0.6057803  0.84488553 0.47902755 0.71086482 0.17087241]\n",
      " [0.         0.28705125 0.06947646 0.63619172 0.38701202]]\n"
     ]
    }
   ],
   "source": [
    "x= np.random.random((5,5))\n",
    "print(\"Raw Arry is :\\n \",x)\n",
    "xmax, xmin = x.max(), x.min()\n",
    "x = (x - xmin)/(xmax - xmin)\n",
    "print(\"\\n\\n After normalization:\\n\",x)"
   ]
  },
  {
   "cell_type": "markdown",
   "metadata": {},
   "source": [
    "# 5. How to find common values between two arrays?"
   ]
  },
  {
   "cell_type": "code",
   "execution_count": 24,
   "metadata": {},
   "outputs": [
    {
     "name": "stdout",
     "output_type": "stream",
     "text": [
      "Array1:  [ 0 10 20 40 60]\n",
      "Array2:  [10, 30, 40]\n",
      "Common values between Array1 and Array 2 :\n",
      "[10 40]\n"
     ]
    }
   ],
   "source": [
    "array1 = np.array([0, 10, 20, 40, 60])\n",
    "print(\"Array1: \",array1)\n",
    "array2 = [10, 30, 40]\n",
    "print(\"Array2: \",array2)\n",
    "print(\"Common values between Array1 and Array 2 :\")\n",
    "print(np.intersect1d(array1, array2))"
   ]
  },
  {
   "cell_type": "markdown",
   "metadata": {},
   "source": [
    "# 6.How to get the dates of yesterday, today and tomorrow?"
   ]
  },
  {
   "cell_type": "code",
   "execution_count": 28,
   "metadata": {},
   "outputs": [
    {
     "name": "stdout",
     "output_type": "stream",
     "text": [
      "Yestraday:  2020-07-27\n",
      "Today:  2020-07-28\n",
      "Tomorrow:  2020-07-29\n"
     ]
    }
   ],
   "source": [
    "yesterday = np.datetime64('today', 'D') - np.timedelta64(1, 'D')\n",
    "print(\"Yestraday: \",yesterday)\n",
    "today = np.datetime64('today', 'D')\n",
    "print(\"Today: \",today)\n",
    "tomorrow = np.datetime64('today', 'D') + np.timedelta64(1, 'D')\n",
    "print(\"Tomorrow: \",tomorrow)"
   ]
  },
  {
   "cell_type": "markdown",
   "metadata": {},
   "source": [
    "# 7. Consider two random array A and B, check if they are equal"
   ]
  },
  {
   "cell_type": "code",
   "execution_count": 31,
   "metadata": {},
   "outputs": [
    {
     "name": "stdout",
     "output_type": "stream",
     "text": [
      "1st array: [0 1 1 1 1 0]\n",
      "2nd array: [0 0 0 1 0 0]\n",
      "Above two arrays are equal or not!\n",
      "False\n"
     ]
    }
   ],
   "source": [
    "d = np.random.randint(0,2,6)\n",
    "print(\"1st array:\",d)\n",
    "e = np.random.randint(0,2,6)\n",
    "print(\"2nd array:\",e)\n",
    "print(\"Above two arrays are equal or not!\")\n",
    "array_equal = np.allclose(d, e)\n",
    "print(array_equal)"
   ]
  },
  {
   "cell_type": "markdown",
   "metadata": {},
   "source": [
    "# 8.Create random vector of size 10 and replace the maximum value by 0"
   ]
  },
  {
   "cell_type": "code",
   "execution_count": 35,
   "metadata": {},
   "outputs": [
    {
     "name": "stdout",
     "output_type": "stream",
     "text": [
      "Raw Arry: \n",
      "  [0.54295724 0.10476295 0.37559427 0.80715721 0.62190137 0.68743519\n",
      " 0.6123031  0.81873605 0.26188612 0.96822575]\n",
      "\n",
      " Maximum value replaced by 0: \n",
      " \n",
      "[0.54295724 0.10476295 0.37559427 0.80715721 0.62190137 0.68743519\n",
      " 0.6123031  0.81873605 0.26188612 0.        ]\n"
     ]
    }
   ],
   "source": [
    "f = np.random.random(10)\n",
    "print(\"Raw Arry: \\n \",f)\n",
    "f[f.argmax()] = 0\n",
    "print(\"\\n Maximum value replaced by 0: \\n \")\n",
    "print(f)"
   ]
  },
  {
   "cell_type": "markdown",
   "metadata": {},
   "source": [
    "# 9. How to print all the values of an array?"
   ]
  },
  {
   "cell_type": "markdown",
   "metadata": {},
   "source": [
    "np.set_printoptions(threshold=np.nan)\n",
    "Z = np.zeros((25,25))\n",
    "print(Z)"
   ]
  },
  {
   "cell_type": "markdown",
   "metadata": {},
   "source": [
    "# 10.Subtract the mean of each row of a matrix"
   ]
  },
  {
   "cell_type": "code",
   "execution_count": 38,
   "metadata": {},
   "outputs": [
    {
     "name": "stdout",
     "output_type": "stream",
     "text": [
      "[[0.29273196 0.05844569 0.01438171]\n",
      " [0.64007825 0.89664825 0.31001107]\n",
      " [0.45347951 0.05927736 0.76394031]]\n",
      "\n",
      "Subtract the mean of each row of the matrix:\n",
      "\n",
      "[[ 0.17087884 -0.06340743 -0.10747141]\n",
      " [ 0.02449906  0.28106906 -0.30556812]\n",
      " [ 0.02791378 -0.36628837  0.33837458]]\n"
     ]
    }
   ],
   "source": [
    "g = np.random.rand(3,3)\n",
    "print(g)\n",
    "print(\"\\nSubtract the mean of each row of the matrix:\\n\")\n",
    "g = g - g.mean(axis=1, keepdims=True)\n",
    "print(g)"
   ]
  },
  {
   "cell_type": "markdown",
   "metadata": {},
   "source": [
    "# 11.Consider a given vector, how to add 1 to each element indexed by a second vector (be careful with repeated indices)?"
   ]
  },
  {
   "cell_type": "code",
   "execution_count": 48,
   "metadata": {},
   "outputs": [
    {
     "name": "stdout",
     "output_type": "stream",
     "text": [
      "[4. 3. 2. 5. 2. 2. 4. 4. 3. 1.]\n"
     ]
    }
   ],
   "source": [
    "i = np.ones(10)\n",
    "j = np.random.randint(0,len(i),20)\n",
    "i += np.bincount(j, minlength=len(i))\n",
    "print(i)"
   ]
  },
  {
   "cell_type": "markdown",
   "metadata": {},
   "source": [
    "# 12.How to get the diagonal of a dot product?"
   ]
  },
  {
   "cell_type": "code",
   "execution_count": 51,
   "metadata": {},
   "outputs": [
    {
     "data": {
      "text/plain": [
       "array([ 48, 138,  39])"
      ]
     },
     "execution_count": 51,
     "metadata": {},
     "output_type": "execute_result"
    }
   ],
   "source": [
    "A = np.random.randint(0,10,(3,3))\n",
    "B = np.random.randint(0,10,(3,3))\n",
    "np.diag(np.dot(A, B))\n",
    "\n",
    "np.sum(A * B.T, axis=1)\n",
    "\n",
    "np.einsum(\"ij,ji->i\", A, B)"
   ]
  },
  {
   "cell_type": "markdown",
   "metadata": {},
   "source": [
    "# 13.How to find the most frequent value in an array?"
   ]
  },
  {
   "cell_type": "code",
   "execution_count": 52,
   "metadata": {},
   "outputs": [
    {
     "name": "stdout",
     "output_type": "stream",
     "text": [
      "[2 3 7 5 3 2 6 7 5 9 3 5 6 4 4 8 6 4 2 6 1 3 1 9 8 4 3 0 9 1 8 5 0 6 2 7 7\n",
      " 6 4 9 6 7 6 7 1 5 8 4 9 2]\n",
      "rank: 6\n"
     ]
    }
   ],
   "source": [
    "k = np.random.randint(0,10,50)\n",
    "print (k)\n",
    "print('rank:', np.bincount(k).argmax())"
   ]
  },
  {
   "cell_type": "markdown",
   "metadata": {},
   "source": [
    "# 14.How to get the n largest values of an array"
   ]
  },
  {
   "cell_type": "code",
   "execution_count": 54,
   "metadata": {},
   "outputs": [
    {
     "name": "stdout",
     "output_type": "stream",
     "text": [
      "[9995 9996 9997 9998 9999]\n",
      "[9997 9998 9999 9996 9995]\n"
     ]
    }
   ],
   "source": [
    "l = np.arange(10000)\n",
    "np.random.shuffle(l)\n",
    "n = 5\n",
    "print (l[np.argsort(l)[-n:]])\n",
    "print (l[np.argpartition(-l,n)[:n]])"
   ]
  },
  {
   "cell_type": "markdown",
   "metadata": {},
   "source": [
    "# 15.How to create a record array from a regular array?"
   ]
  },
  {
   "cell_type": "code",
   "execution_count": 57,
   "metadata": {},
   "outputs": [],
   "source": [
    "Z = np.array([(\"Hello\", 2.5, 3),(\"World\", 3.6, 2)])\n",
    "R = np.core.records.fromarrays(Z.T,names='col1, col2, col3',formats = 'S8, f8, i8')"
   ]
  },
  {
   "cell_type": "code",
   "execution_count": null,
   "metadata": {},
   "outputs": [],
   "source": []
  }
 ],
 "metadata": {
  "kernelspec": {
   "display_name": "Python 3",
   "language": "python",
   "name": "python3"
  },
  "language_info": {
   "codemirror_mode": {
    "name": "ipython",
    "version": 3
   },
   "file_extension": ".py",
   "mimetype": "text/x-python",
   "name": "python",
   "nbconvert_exporter": "python",
   "pygments_lexer": "ipython3",
   "version": "3.7.6"
  }
 },
 "nbformat": 4,
 "nbformat_minor": 4
}
