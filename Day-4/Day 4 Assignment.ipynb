{
 "cells": [
  {
   "cell_type": "markdown",
   "metadata": {},
   "source": [
    "# Question 1 :\n",
    "Research on whether addition, subtraction, multiplication, division, floor division and modulo\n",
    "operations be performed on complex numbers. Based on your study, implement a Python\n",
    "program to demonstrate these operations."
   ]
  },
  {
   "cell_type": "code",
   "execution_count": 6,
   "metadata": {},
   "outputs": [
    {
     "name": "stdout",
     "output_type": "stream",
     "text": [
      "Enter First Number:23\n",
      "Enter Second Number:2\n",
      "First Number + Second Number =  25 \n",
      "First Number - Second Number = 21 \n",
      "First Number * Second Number = 46 \n",
      "First Number / Second Number = 11.5\n"
     ]
    }
   ],
   "source": [
    "n1=int(input(\"Enter First Number:\"))\n",
    "n2=int(input(\"Enter Second Number:\"))\n",
    "ans1=n1+n2\n",
    "ans2=n1-n2\n",
    "ans3=n1*n2\n",
    "ans4=n1/n2\n",
    "print(\"First Number + Second Number = \",ans1,'\\n'\"First Number - Second Number =\",ans2,'\\n'\"First Number * Second Number =\",ans3,'\\n'\"First Number / Second Number =\",ans4)"
   ]
  },
  {
   "cell_type": "markdown",
   "metadata": {},
   "source": [
    "# Question 2 :\n",
    "Research on range() functions and its parameters. Create a markdown cell and write in your own\n",
    "words (no copy-paste from google please) what you understand about it. Implement a small\n",
    "program of your choice on the same."
   ]
  },
  {
   "cell_type": "code",
   "execution_count": 35,
   "metadata": {},
   "outputs": [
    {
     "name": "stdout",
     "output_type": "stream",
     "text": [
      "0 is Even Number\n",
      "1 is Odd Number \n",
      "2 is Even Number\n",
      "3 is Odd Number \n",
      "4 is Even Number\n",
      "5 is Odd Number \n",
      "6 is Even Number\n",
      "7 is Odd Number \n",
      "8 is Even Number\n",
      "9 is Odd Number \n",
      "10 is Even Number\n",
      "No more number in range\n"
     ]
    }
   ],
   "source": [
    "i=0\n",
    "for n in range (11):\n",
    "    if((n%2)==0):\n",
    "            print(n,\"is Even Number\")\n",
    "    elif ((n%2)==1):\n",
    "            print(n,\"is Odd Number \")\n",
    "            \n",
    "print(\"No more number in range\")\n",
    "    \n",
    "    "
   ]
  },
  {
   "cell_type": "markdown",
   "metadata": {},
   "source": [
    "# Question 3:\n",
    "Consider two numbers. Perform their subtraction and if the result of subtraction is greater than\n",
    "25, print their multiplication result else print their division result."
   ]
  },
  {
   "cell_type": "code",
   "execution_count": 58,
   "metadata": {},
   "outputs": [
    {
     "name": "stdout",
     "output_type": "stream",
     "text": [
      "Enter First Number:3\n",
      "Enter Second Number:1\n",
      "3\n"
     ]
    }
   ],
   "source": [
    "num1=int(input(\"Enter First Number:\"))\n",
    "num2=int(input(\"Enter Second Number:\"))\n",
    "ansr=num1-num2\n",
    "if ans1 >25:\n",
    "    ansr=num1*num2\n",
    "else:\n",
    "    ansr=num1/num2\n",
    "    \n",
    "print(ansr)"
   ]
  },
  {
   "cell_type": "code",
   "execution_count": null,
   "metadata": {},
   "outputs": [],
   "source": []
  },
  {
   "cell_type": "markdown",
   "metadata": {},
   "source": [
    "# Question 4:\n",
    "Consider a list of 10 elements of integer values. If the number in the list is divisible by 2, print the\n",
    "result as \"square of that number minus 2\"."
   ]
  },
  {
   "cell_type": "code",
   "execution_count": 2,
   "metadata": {},
   "outputs": [
    {
     "name": "stdout",
     "output_type": "stream",
     "text": [
      "2\n",
      "14\n",
      "34\n",
      "62\n"
     ]
    }
   ],
   "source": [
    "num=[1,2,3,4,5,6,7,8,9]\n",
    "for i in num:\n",
    "    if(i%2==0):\n",
    "        print(i*i-2)"
   ]
  },
  {
   "cell_type": "markdown",
   "metadata": {},
   "source": [
    "# Question 5:\n",
    "Consider a list of 10 elements. Print all the elements in the list which are greater than 7 when that\n",
    "number is divided 2."
   ]
  }
 ],
 "metadata": {
  "kernelspec": {
   "display_name": "Python 3",
   "language": "python",
   "name": "python3"
  },
  "language_info": {
   "codemirror_mode": {
    "name": "ipython",
    "version": 3
   },
   "file_extension": ".py",
   "mimetype": "text/x-python",
   "name": "python",
   "nbconvert_exporter": "python",
   "pygments_lexer": "ipython3",
   "version": "3.7.6"
  }
 },
 "nbformat": 4,
 "nbformat_minor": 4
}
